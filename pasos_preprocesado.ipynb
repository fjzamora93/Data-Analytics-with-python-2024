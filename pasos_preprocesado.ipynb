{
 "cells": [
  {
   "cell_type": "markdown",
   "metadata": {},
   "source": [
    "# Pasos a seguir en el preprocesado de datos\n",
    "\n",
    "Corregir, completar, Creación y Conversión.\n",
    "Limpieza de datos, selección de características, extracción de características, transformación y creación.\n",
    "\n",
    "## Obligatorios\n",
    "\n",
    "1. Tratar valores faltantes o erróneos\n",
    "\n",
    "    a. borrar fila (si tenemos suficientes registros)\n",
    "\n",
    "    b. borrar la columna (si faltan demasiados valores en esa columna)\n",
    "\n",
    "    c. imputar (SimpleImputer: media, mediana o moda)\n",
    "\n",
    "\n",
    "2. Tratar los Outliers.\n",
    "\n",
    "    a. IsolationForest - bastante buenos, no asumen ninguna distribución en concreto de los datos.\n",
    "\n",
    "    b. IQR (Interquartile Range) - si sobrepasa el 1.5 por encima del tercero o por debajo del primero, va fuera.\n",
    "\n",
    "\n",
    "3. Manipulación de datos (escalarlos):\n",
    "\n",
    "    a. Estandarizar (todos los datos de una columna en la misma escala)\n",
    "\n",
    "    b. Normalizer (todos los datos de una fila en la misma escala)\n",
    "\n",
    "    c. Transformar las distribuciones (????????????????????????????????????)\n",
    "\n",
    "4. Reducción de la dimensionalidad (siempre después de escalar los datos)\n",
    "\n",
    "    a. SelectKBest (te quedas con las más importantes)\n",
    "    \n",
    "    b. Eliminación de las poco relevantes (RFE).\n",
    "\n",
    "    c. Métodos del Árbol de Decisión.\n",
    "\n",
    "\n",
    "## Opcionales \n",
    "\n",
    "\n",
    "5. Transformación de categóricos a numéricos (equivalente al pd.get_dummies):\n",
    "    a. LabelEncoder (para la salida)\n",
    "    b. OrdinalEncoder (para la entrada)\n",
    "    c. OneHotEncoder\n",
    "\n",
    "6. Creación de nuevas features significativas (PCA) -después de escalar y convertir los categóricos.\n",
    "\n",
    "\n",
    "7. Discretización de los datos (binning)\n",
    "    a. Binarizer\n",
    "    b. KBinsDiscretizer\n",
    "\n",
    "\n",
    "8. Corregir desbalanceo de datos y sesgos.\n",
    "\n"
   ]
  },
  {
   "cell_type": "markdown",
   "metadata": {},
   "source": [
    "## 1. Tratar valores faltantes o erróneos \n",
    "\n",
    "Utilizaremos un método específico para primero detectar los NaN, y, una vez los tengamos identificados, ver cuál es la mejor solución.\n",
    "Lo podemos hacer con algunos de estos:\n",
    "\n",
    "a. SimpleImputer (mean, median, most_frequent, constant)\n",
    "\n",
    "b. InterativeImputer (utiliza una regresión para rellenar, por defecto una bayesiana). Tiene la peculairidad de que aplica el fit y el transform por separado.\n",
    "\n",
    "c. KNNImputer (utiliza el KNN para rellenar)\n",
    "\n",
    "d. A tomar por culo. Nos cargamos la columna o las filas y santas pascuas."
   ]
  },
  {
   "cell_type": "code",
   "execution_count": null,
   "metadata": {},
   "outputs": [],
   "source": [
    "df = pd.read_csv('../data/student-por.csv', sep=';')\n",
    "df.isnull().sum() #te va a sacar los nulos de cada columna\n",
    "\n",
    "df = df.drop('famrel', axis=1) #A tomar por culo la columna, como famrel tenía más de 400 nulos, se va a la puta.\n",
    "\n",
    "df.age = df.age.apply(lambda value: np.nan if value == '?' else value)\n",
    "\n",
    "from sklearn.impute import SimpleImputer\n",
    "\n",
    "imputer = SimpleImputer(strategy='median')\n",
    "df_simple_age = pd.DataFrame(df_simple['age']) # 2 dimensiones\n",
    "\n",
    "imputer.fit(df_simple_age)\n",
    "df_simple['age'] = imputer.transform(df_simple_age)\n",
    "df_simple['age'] = df_simple['age'].astype(int)\n",
    "df_simple.head(15)\n",
    "\n",
    "\n",
    "# Verificar que ahora la columna age tiene 0 nulos:\n",
    "df_simple.isnull().sum()"
   ]
  },
  {
   "cell_type": "markdown",
   "metadata": {},
   "source": [
    "## 2. Tratar Outliers\n",
    "\n",
    "Observaremos las características de los Outliers y decidiremos si perjudican al modelo. De ser así, debemos ocuparnos de ellos. \n",
    "En este caso, una forma muy eficaz de tratar los outliers es con IsolationForest, ya que no asume ningún tipo de distribución. Aunque como alternativa también está el IQR.\n"
   ]
  },
  {
   "cell_type": "code",
   "execution_count": null,
   "metadata": {},
   "outputs": [],
   "source": [
    "# ISOLATION FOREST\n",
    "\n",
    "from sklearn.ensemble import IsolationForest\n",
    "from sklearn import datasets\n",
    "import pandas as pd\n",
    "\n",
    "housing = datasets.fetch_california_housing()\n",
    "df = pd.DataFrame(housing.data, columns=housing.feature_names)\n",
    "df['MedHouseVal'] = housing.target\n",
    "\n",
    "\n",
    "X = housing.data\n",
    "y = housing.target\n",
    "\n",
    "# X_train, X_test, y_train, y_test = train_test_split(X, y, test_size=0.25, random_state=42)\n",
    "\n",
    "\n",
    "# A nivel interno, el entrenamiento asigna  una etiqueta de 1 a los datos normales y una etiqueta de -1 a los outliers\n",
    "# iso = IsolationForest(contamination=0.01) # 0 a 0.5\n",
    "iso = IsolationForest()\n",
    "y_outliers = iso.fit_predict(X)\n",
    "y_outliers\n",
    "\n",
    "#Obtenem os el filtro, recordamos que están etiquetados los datos.\n",
    "filter = y_outliers != -1\n",
    "\n",
    "X_wo, y_wo = X[filter, :], y[filter]\n",
    "print(\"X shape: \", X.shape)\n",
    "print(\"X_wo shape: \", X_wo.shape)\n",
    "print(\"Outliers borrados: \", X.shape[0] - X_wo.shape[0])\n",
    "\n",
    "#Finalmente sacaríamos las métricas (esto sería una función con las métricas, veriamos que al quitar Outliers la cosa mejora)\n",
    "calc_predictions(X_wo, y_wo)"
   ]
  },
  {
   "cell_type": "code",
   "execution_count": null,
   "metadata": {},
   "outputs": [],
   "source": [
    "## IQR, reexaminar todo el códio del IQR que está en 2.PREPROCESADOS_TÉCNICAS\n",
    "\n",
    "from collections import Counter\n",
    "def detect_outliers(df, n, features):\n",
    "    \"\"\"\n",
    "    Takes a dataframe df of features and returns a list of the indices\n",
    "    corresponding to the observations containing more than n outliers according\n",
    "    to the Tukey method.\n",
    "    \"\"\"EG\n",
    "    outlier_indices = []\n",
    "\n",
    "    # iterate over features(columns)\n",
    "    for col in features:\n",
    "        # 1st quartile (25%)\n",
    "        Q1 = np.percentile(df[col], 25)\n",
    "        # 3rd quartile (75%)\n",
    "        Q3 = np.percentile(df[col], 75)\n",
    "        # Interquartile range (IQR)\n",
    "        IQR = Q3 - Q1\n",
    "\n",
    "        # outlier step\n",
    "        outlier_step = 1.5 * IQR\n",
    "\n",
    "        # Determine a list of indices of outliers for feature col\n",
    "        outlier_list_col = df[(df[col] < Q1 - outlier_step) | (df[col] > Q3 + outlier_step)].index\n",
    "\n",
    "        # append the found outlier indices for col to the list of outlier indices\n",
    "        outlier_indices.extend(outlier_list_col)\n",
    "\n",
    "    # select observations containing more than 2 outliers\n",
    "    outlier_indices = Counter(outlier_indices)\n",
    "    multiple_outliers = list(k for k, v in outlier_indices.items() if v > n)\n",
    "\n",
    "    return multiple_outliers\n",
    "\n",
    "housing = datasets.fetch_california_housing()\n",
    "df = pd.DataFrame(housing.data, columns=housing.feature_names)\n",
    "df['MedHouseVal'] = housing.target\n",
    "\n",
    "outliers = detect_outliers(df, 2, df.drop('MedHouseVal', axis=1).columns) #Detectamos los Outliers\n",
    "df.loc[outliers] # Los mostramos por pantalla\n",
    "df = df.drop(outliers, axis=0).reset_index(drop=True) # Los quitamos del axis 0, es decir, todos los registros de outliers\n",
    "\n",
    "X = df.drop(['MedHouseVal'], axis=1)\n",
    "y = df['MedHouseVal']\n",
    "calc_predictions(X, y)"
   ]
  },
  {
   "cell_type": "markdown",
   "metadata": {},
   "source": [
    "## 3. Escalado de datos\n",
    "\n",
    "### 3.1 Normalizer\n",
    "Normalizer trata cada registro de forma INDIVIDUAL y pasa todos sus datos a la misma escala.\n",
    "Esto es especialmente útil para ver qué peso tiene cada característica en cada registro de manera proporcional.\n",
    "Imagínate este ejemplo:\n",
    "\n",
    "Supongamos que tenemos una serie de documentos, y queremos intentar averiguar qué temática tienen. En este caso, no podemos atenernos al número de veces qué aparece cada palabra, sino en qué proporción aparece cada palabra documento. \n",
    "\n",
    "Si utilizásemos un MinMaxScaler normal, el resultado sería que aquellos documentos más largos parecería que tratan ciertos temas en mayor proporción que ciertos documentos de poca extensión. Aunque es probable que un documento de menor extensión aborde dicho tema en mayor profundidad. Para abordar esta situación, utilizaríamos un Normalizer."
   ]
  },
  {
   "cell_type": "markdown",
   "metadata": {},
   "source": [
    "### 3.2 MinMaxScaler\n",
    "\n",
    "El valor más bajo valdría 0, el valor más alto valdría 1. Todos los demás quedarían entre medias. El problema del MinMaxScaler es que suprime el efecto de los Outliers, y eso puede ser un problema. Si este es el caso, otra opción sería utilizar StandarSCaller. Aquí, la desviación estándar puede variar, no es como en el StandarScaler que siempre dará 1 de desviación estándar."
   ]
  },
  {
   "cell_type": "code",
   "execution_count": 4,
   "metadata": {},
   "outputs": [
    {
     "data": {
      "text/plain": [
       "array([[0.  , 0.  ],\n",
       "       [0.25, 0.25],\n",
       "       [0.5 , 0.5 ],\n",
       "       [0.75, 0.75],\n",
       "       [1.  , 1.  ]])"
      ]
     },
     "execution_count": 4,
     "metadata": {},
     "output_type": "execute_result"
    }
   ],
   "source": [
    "from sklearn.preprocessing import MinMaxScaler\n",
    "import numpy as np\n",
    "\n",
    "data = np.array([[1, 200], [2, 300], [3, 400], [4, 500], [5, 600]])\n",
    "\n",
    "scaler = MinMaxScaler()\n",
    "minmax_data = scaler.fit_transform(data)\n",
    "\n",
    "minmax_data"
   ]
  },
  {
   "cell_type": "markdown",
   "metadata": {},
   "source": [
    "### 3.3 StandarScaller\n",
    "El StandardScaler estandariza las características eliminando la media y escalando a una desviación estándar de 1. Esto significa que cada característica en los datos transformados tendrá una media de 0 y una desviación estándar de 1. Eso quiere decir que habrá valores que quedarán por encima de 1 o por debajo de -1, ya que los datos no están restringidos."
   ]
  },
  {
   "cell_type": "code",
   "execution_count": 3,
   "metadata": {},
   "outputs": [
    {
     "data": {
      "text/plain": [
       "array([[-1.41421356, -1.41421356],\n",
       "       [-0.70710678, -0.70710678],\n",
       "       [ 0.        ,  0.        ],\n",
       "       [ 0.70710678,  0.70710678],\n",
       "       [ 1.41421356,  1.41421356]])"
      ]
     },
     "execution_count": 3,
     "metadata": {},
     "output_type": "execute_result"
    }
   ],
   "source": [
    "import numpy as np\n",
    "from sklearn.preprocessing import StandardScaler\n",
    "\n",
    "data = np.array([[1, 200], [2, 300], [3, 400], [4, 500], [5, 600]])\n",
    "\n",
    "scaler = StandardScaler()\n",
    "standardized_data = scaler.fit_transform(data)\n",
    "\n",
    "standardized_data"
   ]
  },
  {
   "cell_type": "markdown",
   "metadata": {},
   "source": [
    "## 4.1 Eliminación de features poco relevantes (SelectKBest)\n",
    "\n",
    "Existen varios métodos para quedarnos con las features más relevantes. Los que podemos comentar son los siguientes:\n",
    "\n",
    "1. SelectKBest: Este método selecciona las 𝑘 mejores características basándose en alguna función de puntuación estadística. Puedes elegir diferentes criterios de puntuación, como (chi-cuadrado) para datos categóricos, ANOVA F-value para datos continuos, entre otros.\n",
    "\n",
    "2. Métodos basados en árboles de decisión: Los árboles de decisión, como los árboles de decisión individuales, los bosques aleatorios (Random Forests) y los modelos de boosting como XGBoost, tienen un atributo llamado feature_importances_ que proporciona una puntuación de importancia para cada característica. Estas puntuaciones pueden usarse para seleccionar las características más relevantes.\n",
    "\n",
    "3. RFE (Recursive Feature Elimination): Este es un método iterativo que ajusta un modelo y elimina las características más débiles hasta alcanzar el número deseado de características. RFE utiliza un estimador (como una regresión lineal o un árbol de decisión) para evaluar la importancia de cada característica en cada iteración.\n",
    "\n",
    "El método por defecto de SelectKBest en ScikitLearn es el valor F de ANOVA (ANOVA F-value). Este método se usa para seleccionar las mejores características basándose en el valor F de ANOVA entre cada característica y la variable objetivo. El valor F de ANOVA mide la relación de varianza entre los grupos a la varianza dentro de los grupos, lo que es útil para datos continuos."
   ]
  },
  {
   "cell_type": "code",
   "execution_count": 10,
   "metadata": {},
   "outputs": [
    {
     "data": {
      "text/html": [
       "<div>\n",
       "<style scoped>\n",
       "    .dataframe tbody tr th:only-of-type {\n",
       "        vertical-align: middle;\n",
       "    }\n",
       "\n",
       "    .dataframe tbody tr th {\n",
       "        vertical-align: top;\n",
       "    }\n",
       "\n",
       "    .dataframe thead th {\n",
       "        text-align: right;\n",
       "    }\n",
       "</style>\n",
       "<table border=\"1\" class=\"dataframe\">\n",
       "  <thead>\n",
       "    <tr style=\"text-align: right;\">\n",
       "      <th></th>\n",
       "      <th>sepal length (cm)</th>\n",
       "      <th>sepal width (cm)</th>\n",
       "      <th>petal length (cm)</th>\n",
       "      <th>petal width (cm)</th>\n",
       "    </tr>\n",
       "  </thead>\n",
       "  <tbody>\n",
       "    <tr>\n",
       "      <th>count</th>\n",
       "      <td>150.000000</td>\n",
       "      <td>150.000000</td>\n",
       "      <td>150.000000</td>\n",
       "      <td>150.000000</td>\n",
       "    </tr>\n",
       "    <tr>\n",
       "      <th>mean</th>\n",
       "      <td>5.843333</td>\n",
       "      <td>3.057333</td>\n",
       "      <td>3.758000</td>\n",
       "      <td>1.199333</td>\n",
       "    </tr>\n",
       "    <tr>\n",
       "      <th>std</th>\n",
       "      <td>0.828066</td>\n",
       "      <td>0.435866</td>\n",
       "      <td>1.765298</td>\n",
       "      <td>0.762238</td>\n",
       "    </tr>\n",
       "    <tr>\n",
       "      <th>min</th>\n",
       "      <td>4.300000</td>\n",
       "      <td>2.000000</td>\n",
       "      <td>1.000000</td>\n",
       "      <td>0.100000</td>\n",
       "    </tr>\n",
       "    <tr>\n",
       "      <th>25%</th>\n",
       "      <td>5.100000</td>\n",
       "      <td>2.800000</td>\n",
       "      <td>1.600000</td>\n",
       "      <td>0.300000</td>\n",
       "    </tr>\n",
       "    <tr>\n",
       "      <th>50%</th>\n",
       "      <td>5.800000</td>\n",
       "      <td>3.000000</td>\n",
       "      <td>4.350000</td>\n",
       "      <td>1.300000</td>\n",
       "    </tr>\n",
       "    <tr>\n",
       "      <th>75%</th>\n",
       "      <td>6.400000</td>\n",
       "      <td>3.300000</td>\n",
       "      <td>5.100000</td>\n",
       "      <td>1.800000</td>\n",
       "    </tr>\n",
       "    <tr>\n",
       "      <th>max</th>\n",
       "      <td>7.900000</td>\n",
       "      <td>4.400000</td>\n",
       "      <td>6.900000</td>\n",
       "      <td>2.500000</td>\n",
       "    </tr>\n",
       "  </tbody>\n",
       "</table>\n",
       "</div>"
      ],
      "text/plain": [
       "       sepal length (cm)  sepal width (cm)  petal length (cm)  \\\n",
       "count         150.000000        150.000000         150.000000   \n",
       "mean            5.843333          3.057333           3.758000   \n",
       "std             0.828066          0.435866           1.765298   \n",
       "min             4.300000          2.000000           1.000000   \n",
       "25%             5.100000          2.800000           1.600000   \n",
       "50%             5.800000          3.000000           4.350000   \n",
       "75%             6.400000          3.300000           5.100000   \n",
       "max             7.900000          4.400000           6.900000   \n",
       "\n",
       "       petal width (cm)  \n",
       "count        150.000000  \n",
       "mean           1.199333  \n",
       "std            0.762238  \n",
       "min            0.100000  \n",
       "25%            0.300000  \n",
       "50%            1.300000  \n",
       "75%            1.800000  \n",
       "max            2.500000  "
      ]
     },
     "execution_count": 10,
     "metadata": {},
     "output_type": "execute_result"
    }
   ],
   "source": [
    "import pandas as pd\n",
    "from sklearn.datasets import load_iris\n",
    "from sklearn.feature_selection import SelectKBest\n",
    "\n",
    "# Cargar el conjunto de datos\n",
    "iris = load_iris()\n",
    "X, y = iris.data, iris.target\n",
    "feature_names = iris.feature_names\n",
    "\n",
    "# Seleccionar las 2 mejores características utilizando ANOVA F-value (por defecto)\n",
    "selector = SelectKBest(k=2)\n",
    "X_new = selector.fit_transform(X, y)\n",
    "\n",
    "# Obtener los nombres de las características seleccionadas\n",
    "selected_features = selector.get_support(indices=True)\n",
    "selected_feature_names = [feature_names[i] for i in selected_features]\n",
    "\n",
    "# Convertir las características seleccionadas en un DataFrame\n",
    "df_selected = pd.DataFrame(X_new, columns=selected_feature_names)\n",
    "iris_df = pd.DataFrame(iris.data, columns=iris.feature_names)\n",
    "\n",
    "# Realizar un describe() en el DataFrame\n",
    "df_selected.describe()\n",
    "iris_df.describe()\n",
    "\n"
   ]
  },
  {
   "cell_type": "markdown",
   "metadata": {},
   "source": [
    "## 5.1 Codificación de variables categóricas (LabelEncoder)\n",
    "\n",
    "Esto es el equivalente al pd.get_dummies(), pero aquí vamos a hacerlo con métodos propios de sklearn.\n",
    "Concretamente, el que vamos a ver es el LabelEncoder (salida) y OrdinalEconder (entrada):"
   ]
  },
  {
   "cell_type": "code",
   "execution_count": null,
   "metadata": {},
   "outputs": [],
   "source": [
    "#LABEL ENCONDER: PARA LA SALIDA\n",
    "\n",
    "df = pd.read_csv(\"../data/sonar.csv\")\n",
    "\n",
    "X = df.drop('label', axis=1) #separamos la X\n",
    "y = df['label'] #separamos la y, que es la que vamos a aplicar el labelEncoder\n",
    "\n",
    "from sklearn.preprocessing import LabelEncoder\n",
    "\n",
    "# pasar y de categórico a numérico.\n",
    "# OrdinalEncoder se utiliza en las entradas (X)\n",
    "# LabelEncoder se utiliza en la salida (y)\n",
    "encoder = LabelEncoder()\n",
    "y = encoder.fit_transform(y)\n"
   ]
  },
  {
   "cell_type": "markdown",
   "metadata": {},
   "source": [
    "## 5.2 Codificación de variables categóricas (OrdinalEncoder / LabelEncoder)\n",
    "\n",
    "Para codificación de los categóricos, tenemos 3 modelos:\n",
    "\n",
    "1. OrdinalEncoder. Se utiliza con los valores de entrada, la X. Por lo general, el proceso es aplicar el OrdinalEconder y después concatenar estos datos con los originales.\n",
    "\n",
    "2. LabelEncoder. Se utiliza únicamente con los valores de salida, la y.\n",
    "\n",
    "3. OneHotEncoder. Es igual que el get_dummies() de pandas. Coge el categórico y crea tantas columnas como categorías haya. Si se cumple la condicón pone 1, si no se cumple, pone 0."
   ]
  },
  {
   "cell_type": "code",
   "execution_count": null,
   "metadata": {},
   "outputs": [],
   "source": [
    "import pandas as pd\n",
    "from sklearn.preprocessing import OrdinalEncoder\n",
    "\n",
    "# Supongamos que tenemos el siguiente DataFrame\n",
    "df = pd.DataFrame({\n",
    "    'edad': [23, 45, 31],\n",
    "    'tamaño_categorico': ['pequeño', 'mediano', 'grande'],\n",
    "    'ingreso': [50000, 60000, 55000],\n",
    "    'label': ['A', 'B', 'A']\n",
    "})\n",
    "\n",
    "# Identificar las columnas categóricas y numéricas\n",
    "columnas_categoricas = ['tamaño_categorico']\n",
    "columnas_numericas = ['edad', 'ingreso']\n",
    "\n",
    "# Separar las columnas categóricas y numéricas\n",
    "X_categorico = df[columnas_categoricas]\n",
    "X_numerico = df[columnas_numericas]\n",
    "\n",
    "# Transformar las columnas categóricas\n",
    "ordinal_encoder = OrdinalEncoder()\n",
    "X_categorico_encoded = ordinal_encoder.fit_transform(X_categorico)\n",
    "\n",
    "# CREAR UN NUEVO DATAFRAME CON LA TRANSFORMACIÓN DE LAS CATEGÓRICAS!!!\n",
    "X_categorico_encoded_df = pd.DataFrame(X_categorico_encoded, columns=columnas_categoricas)\n",
    "\n",
    "# CONCATENAMOS NUESTRAS NUMÉRICAS ORIGINALES CON LAS QUE HEMOS TRANSFORMADO HACE UN SEGUNDO\n",
    "X_final = pd.concat([X_numerico, X_categorico_encoded_df], axis=1)\n",
    "\n",
    "# Transformar la variable de salida con LabelEncoder\n",
    "from sklearn.preprocessing import LabelEncoder\n",
    "label_encoder = LabelEncoder()\n",
    "y_encoded = label_encoder.fit_transform(df['label'])\n",
    "\n",
    "print(X_final)\n",
    "print(y_encoded)\n"
   ]
  },
  {
   "cell_type": "markdown",
   "metadata": {},
   "source": [
    "# 6 Análisis de los Compomentes Principales (PCA) - Después de escalar y codificar los categóricos\n",
    "\n",
    "\n",
    "Es imperativo mencionar que un conjunto de características debe normalizarse antes de aplicar PCA. Por ejemplo, si un conjunto de características tiene datos expresados en unidades de kilogramos, años luz o millones, la escala de variación es enorme en el conjunto de entrenamiento. Si se aplica PCA en un conjunto de características de este tipo, las cargas resultantes para las características con una varianza alta también serán grandes. Por lo tanto, los componentes principales estarán sesgados hacia características con una gran variación, lo que generará resultados falsos. Para ello escalamos los datos con: MinMaxScaler o StandardScaler.\n",
    "\n",
    "Finalmente, el último punto a recordar antes de comenzar a codificar es que PCA es una técnica estadística y solo se puede aplicar a datos numéricos. Por lo tanto, las características categóricas deben convertirse en características numéricas antes de poder aplicar PCA.\n",
    "\n",
    "\n",
    "La PCA busca ordenar las características desde las que provocan mayor varianza hasta las que menos. \n",
    "\n",
    "Una alta varianza se considera más importante en el contexto de PCA porque indica la dirección en la que los datos están más dispersos, y capturar esta varianza permite retener la mayor cantidad de información posible al reducir las dimensiones del conjunto de datos. Este enfoque asegura que las características más importantes y la estructura subyacente de los datos se mantengan al simplificar el modelo.\n"
   ]
  },
  {
   "cell_type": "markdown",
   "metadata": {},
   "source": [
    "# 7. Distribución de datos\n",
    "\n",
    "Para evitar sesgos, puede plantearse preprocesar la distribución de datos. Dentro de este apartado existen varias técnicas, como CunatileTransformer, PowerTransformer o BoxCox. Nosotros nos vamos a centrar en CuantileTransformer.\n",
    "\n",
    "QuantileTransformer transforma las características de modo que sigan una distribución específica al utilizar cuantiles. Esto implica que se mapean los datos originales a nuevos valores utilizando sus posiciones en la distribución acumulada (CDF). Esto tiene el efecto de eliminar la influencia de la forma original de la distribución de los datos, resultando en datos que siguen la distribución deseada.\n",
    "\n",
    "### Principales Parámetros y Opciones\n",
    "1. output_distribution: Este parámetro define la distribución de salida. Las opciones son:\n",
    "\n",
    "'uniform': Transforma los datos para que sigan una distribución uniforme.\n",
    "'normal': Transforma los datos para que sigan una distribución gaussiana (normal).\n",
    "n_quantiles: Número de cuantiles a utilizar para dividir los datos. Más cuantiles pueden llevar a una transformación más precisa, pero a costa de mayor tiempo de computación.\n",
    "\n",
    "2. subsample: Si el número de muestras en los datos es mayor que este valor, se utilizará una muestra aleatoria de las primeras subsample muestras para ajustar la transformación.\n",
    "\n",
    "3. random_state: Semilla para la generación de números aleatorios, útil para reproducibilidad."
   ]
  },
  {
   "cell_type": "code",
   "execution_count": 9,
   "metadata": {},
   "outputs": [
    {
     "data": {
      "text/plain": [
       "<Axes: xlabel='feature1', ylabel='Count'>"
      ]
     },
     "execution_count": 9,
     "metadata": {},
     "output_type": "execute_result"
    },
    {
     "data": {
      "image/png": "[encoded data removed]",
      "text/plain": [
       "<Figure size 640x480 with 1 Axes>"
      ]
     },
     "metadata": {},
     "output_type": "display_data"
    }
   ],
   "source": [
    "import numpy as np\n",
    "import pandas as pd\n",
    "import seaborn as sns\n",
    "from sklearn.preprocessing import QuantileTransformer\n",
    "\n",
    "# Crear un DataFrame de ejemplo\n",
    "data = {\n",
    "    'feature1': np.random.exponential(scale=2, size=1000),  # Distribución exponencial\n",
    "    'feature2': np.random.normal(loc=0, scale=1, size=1000) # Distribución normal\n",
    "}\n",
    "df = pd.DataFrame(data)\n",
    "\n",
    "# Inicializar el QuantileTransformer\n",
    "transformer = QuantileTransformer(output_distribution='normal', n_quantiles=100, random_state=0)\n",
    "\n",
    "# Ajustar y transformar los datos\n",
    "df_transformed = transformer.fit_transform(df)\n",
    "\n",
    "# Convertir de nuevo a DataFrame para facilitar la visualización\n",
    "df_transformed = pd.DataFrame(df_transformed, columns=df.columns)\n",
    "\n",
    "# Mostrar las primeras filas del DataFrame transformado\n",
    "df_transformed.describe()\n",
    "\n",
    "#Y aquí vemos cómo lo que iba a ser una distribución exponencial, se convierte en guasina\n",
    "sns.histplot(df_transformed['feature1'], kde=True, color='blue', label='Original')\n"
   ]
  },
  {
   "cell_type": "markdown",
   "metadata": {},
   "source": [
    "# 8. Descritización\n",
    "\n",
    "Conviertes variables continuas en variables discretas (rangos). Las dos que se utilizan con ScikitLearn son KbinsDiscretizer y Binarizer. El binarizer no lo vamos a explicar ya que únicamente transformar en 0 o en 1. Es decir, o sí o no entra en la categoría. Esto mismo se puede conseguir con un KbinsDiscretizer de n_bins=2. Pero puede ser útil repasar el Binarizer en el futuro.\n",
    "\n",
    "## KbinsDiscretizer\n",
    "\n",
    "La discretización con KBinsDiscretizer puede ser útil en situaciones donde se necesita convertir características numéricas en categorías para su uso en modelos que requieren variables categóricas. Al crear una instancia de KBinsDiscretizer, se especifican varios parámetros importantes:\n",
    "\n",
    "### n_bins: \n",
    "Especifica el número de bins (contenedores) en los que se discretizará la variable. Puedes especificar un único valor entero para bins de igual anchura o una lista para bins de igual frecuencia.\n",
    "\n",
    "### strategy: \n",
    "Determina la estrategia de discretización. Puede ser:\n",
    "\n",
    "-'uniform': Todos los bins tienen la misma anchura.\n",
    "\n",
    "-'quantile': Todos los bins tienen la misma cantidad de puntos de datos.\n",
    "\n",
    "-'kmeans': Los bins se forman utilizando el algoritmo de K-means.\n",
    "\n",
    "\n",
    "### encode: \n",
    "\n",
    "Especifica cómo codificar las variables discretizadas. Puede ser 'ordinal' para codificar como números enteros o 'onehot' para codificar como variables dummy.\n"
   ]
  },
  {
   "cell_type": "code",
   "execution_count": 10,
   "metadata": {},
   "outputs": [
    {
     "data": {
      "text/plain": [
       "array([[0., 0.],\n",
       "       [0., 0.],\n",
       "       [1., 1.],\n",
       "       [1., 1.]])"
      ]
     },
     "execution_count": 10,
     "metadata": {},
     "output_type": "execute_result"
    }
   ],
   "source": [
    "from sklearn.preprocessing import KBinsDiscretizer\n",
    "import numpy as np\n",
    "\n",
    "# Datos de ejemplo\n",
    "X = np.array([[0, 2], [1, 3], [2, 4], [3, 5]])\n",
    "\n",
    "# Crear el discretizador\n",
    "enc = KBinsDiscretizer(n_bins=2, encode='ordinal', strategy='uniform')\n",
    "\n",
    "# Ajustar y transformar los datos\n",
    "X_binned = enc.fit_transform(X)\n",
    "\n",
    "X_binned"
   ]
  },
  {
   "cell_type": "markdown",
   "metadata": {},
   "source": [
    "# 9. Creación de nuesvas features o eliminación manual\n",
    "\n",
    "Este paso normalmente es más manual, ya que responde a un análisis de los datos que tengamos. Por ejemplo, en el titanic, podemos crear una variable de 'viaja solo' si el tamaño de la familia es == 1.\n",
    "\n",
    "O si hubiese demasiadas categorías, podríamos simplificar las categorías por \"otros\" para aquellas que no tienen demasiados registros. Esto puede simplificar los datos."
   ]
  }
 ],
 "metadata": {
  "kernelspec": {
   "display_name": "Python 3",
   "language": "python",
   "name": "python3"
  },
  "language_info": {
   "codemirror_mode": {
    "name": "ipython",
    "version": 3
   },
   "file_extension": ".py",
   "mimetype": "text/x-python",
   "name": "python",
   "nbconvert_exporter": "python",
   "pygments_lexer": "ipython3",
   "version": "3.12.3"
  }
 },
 "nbformat": 4,
 "nbformat_minor": 2
}
